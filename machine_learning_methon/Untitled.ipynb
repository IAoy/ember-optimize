{
 "cells": [
  {
   "cell_type": "code",
   "execution_count": 1,
   "id": "3d216432",
   "metadata": {},
   "outputs": [],
   "source": [
    "import os\n",
    "import sys\n",
    "sys.path.append('/home/test/test/liweihao/ember-optimize')\n",
    "import ember\n",
    "import numpy as np\n",
    "import pandas as pd\n",
    "import altair as alt\n",
    "import lightgbm as lgb\n",
    "import matplotlib.pylab as plt\n",
    "from sklearn import datasets\n",
    "from sklearn.model_selection import train_test_split\n",
    "from sklearn.preprocessing import StandardScaler\n",
    "from sklearn.svm import SVC\n",
    "from sklearn.metrics import roc_auc_score, roc_curve\n",
    "from sklearn.metrics import accuracy_score, precision_score, recall_score, f1_score\n",
    "_ = alt.renderers.enable('notebook')"
   ]
  },
  {
   "cell_type": "code",
   "execution_count": 7,
   "id": "cb1773a3",
   "metadata": {},
   "outputs": [
    {
     "name": "stdout",
     "output_type": "stream",
     "text": [
      "y_train_pred: [3.57428391e-11 1.29046444e-03 9.99999999e-01 3.81332034e-08\n",
      " 9.99999998e-01]\n",
      "y_test_pred: [9.99999973e-01 9.99999998e-01 1.34262907e-07 9.99997858e-01\n",
      " 9.99999998e-01]\n",
      "y_combined: [3.57428391e-11 1.29046444e-03 9.99999999e-01 3.81332034e-08\n",
      " 9.99999998e-01 9.99999973e-01 9.99999998e-01 1.34262907e-07\n",
      " 9.99997858e-01 9.99999998e-01]\n"
     ]
    }
   ],
   "source": [
    "data_dir = \"/home/test/test/liweihao/resultOfEmber/data_train_0.1_raw_parameter\" # change this to where you unzipped the download"
   ]
  },
  {
   "cell_type": "code",
   "execution_count": 3,
   "id": "8d19c0c3",
   "metadata": {},
   "outputs": [],
   "source": [
    "# ember.create_vectorized_features(data_dir)\n",
    "# _ = ember.create_metadata(data_dir)"
   ]
  },
  {
   "cell_type": "code",
   "execution_count": 4,
   "id": "9ae53e1a",
   "metadata": {},
   "outputs": [],
   "source": [
    "emberdf = ember.read_metadata(data_dir)\n",
    "X_train, y_train, X_test, y_test = ember.read_vectorized_features(data_dir)"
   ]
  },
  {
   "cell_type": "code",
   "execution_count": 5,
   "id": "bdca1dd4",
   "metadata": {},
   "outputs": [],
   "source": [
    "# 标准化数据\n",
    "scaler = StandardScaler()\n",
    "X_train = scaler.fit_transform(X_train)\n",
    "X_test = scaler.transform(X_test)"
   ]
  },
  {
   "cell_type": "code",
   "execution_count": 9,
   "id": "23f05bc7",
   "metadata": {},
   "outputs": [
    {
     "data": {
      "text/plain": [
       "SVC(random_state=42)"
      ]
     },
     "execution_count": 9,
     "metadata": {},
     "output_type": "execute_result"
    }
   ],
   "source": [
    "# 初始化SVM分类器\n",
    "svm_clf = SVC(C=1.0, kernel='rbf', degree=3, gamma='scale', random_state=42)\n",
    "\n",
    "# 训练模型\n",
    "svm_clf.fit(X_train, y_train)"
   ]
  },
  {
   "cell_type": "code",
   "execution_count": 21,
   "id": "10e89819",
   "metadata": {},
   "outputs": [
    {
     "name": "stdout",
     "output_type": "stream",
     "text": [
      "X_train length = 24927\n",
      "224344\n",
      "224344\n",
      "224344\n",
      "Number of rows with NaN values: 1\n",
      "Number of rows with infinite values: 0\n",
      "Number of rows with extremely large values: 0\n",
      "Total number of abnormal rows: 1\n",
      "Indices of rows with abnormal values:\n",
      "[132046]\n",
      "Rows with abnormal values:\n",
      "[[        nan         nan         nan ... -0.06311643 -0.0623609\n",
      "  -0.0615679 ]]\n"
     ]
    }
   ],
   "source": [
    "print(f\"X_train length = {len(X_train)}\")\n",
    "\n",
    "# 检查 NaN 值\n",
    "nan_rows = np.isnan(X_test).any(axis=1)\n",
    "print(len(nan_rows))\n",
    "\n",
    "# 检查无穷大值\n",
    "inf_rows = np.isinf(X_test).any(axis=1)\n",
    "print(len(inf_rows))\n",
    "\n",
    "# 检查超过合理范围的值\n",
    "# float64 的有效范围是 -1.7976931348623157e+308 到 1.7976931348623157e+308\n",
    "# 自定义一个合理范围来检查\n",
    "large_value_threshold = 1e+300\n",
    "large_value_rows = (np.abs(X_test) > large_value_threshold).any(axis=1)\n",
    "print(len(large_value_rows))\n",
    "\n",
    "# 合并所有异常的行\n",
    "abnormal_rows = nan_rows | inf_rows | large_value_rows\n",
    "\n",
    "print(f\"Number of rows with NaN values: {nan_rows.sum()}\")\n",
    "print(f\"Number of rows with infinite values: {inf_rows.sum()}\")\n",
    "print(f\"Number of rows with extremely large values: {large_value_rows.sum()}\")\n",
    "print(f\"Total number of abnormal rows: {abnormal_rows.sum()}\")\n",
    "\n",
    "# 输出异常数值具体的行\n",
    "abnormal_rows_indices = np.where(abnormal_rows)[0]\n",
    "print(\"Indices of rows with abnormal values:\")\n",
    "print(abnormal_rows_indices)\n",
    "\n",
    "# 查看异常数值的具体内容\n",
    "print(\"Rows with abnormal values:\")\n",
    "print(X_test[abnormal_rows])"
   ]
  },
  {
   "cell_type": "code",
   "execution_count": 24,
   "id": "c80db04f",
   "metadata": {},
   "outputs": [
    {
     "name": "stdout",
     "output_type": "stream",
     "text": [
      "249270\n"
     ]
    }
   ],
   "source": [
    "#清理异常数据\n",
    "X_test_cleaned = X_test.copy()\n",
    "X_test_cleaned = np.delete(X_test_cleaned, 132046, axis=0)\n",
    "\n",
    "emberdf_cleaned = emberdf.drop(len(X_train) + 132046)\n",
    "\n",
    "print(len(emberdf_cleaned))"
   ]
  },
  {
   "cell_type": "code",
   "execution_count": 26,
   "id": "62daa299",
   "metadata": {},
   "outputs": [],
   "source": [
    "# 预测\n",
    "y_train_pred = svm_clf.predict(X_train)\n",
    "y_test_pred = svm_clf.predict(X_test_cleaned)"
   ]
  },
  {
   "cell_type": "code",
   "execution_count": 27,
   "id": "740321b1",
   "metadata": {},
   "outputs": [],
   "source": [
    "emberdf_cleaned[\"y_pred\"] = np.hstack((y_train_pred, y_test_pred))"
   ]
  },
  {
   "cell_type": "code",
   "execution_count": 28,
   "id": "80516525",
   "metadata": {},
   "outputs": [],
   "source": [
    "def get_fpr(y_true, y_pred):\n",
    "    nbenign = (y_true == 0).sum()\n",
    "    nfalse = (y_pred[y_true == 0] == 1).sum()\n",
    "    return nfalse / float(nbenign)\n",
    "\n",
    "\n",
    "def find_threshold(y_true, y_pred, fpr_target):\n",
    "    thresh = 0.0\n",
    "    fpr = get_fpr(y_true, y_pred > thresh)\n",
    "    while fpr > fpr_target and thresh < 1.0:\n",
    "        thresh += 0.0001\n",
    "        fpr = get_fpr(y_true, y_pred > thresh)\n",
    "    return thresh, fpr"
   ]
  },
  {
   "cell_type": "code",
   "execution_count": 30,
   "id": "b43037f2",
   "metadata": {},
   "outputs": [
    {
     "name": "stdout",
     "output_type": "stream",
     "text": [
      "ROC AUC: 0.9743311572604254\n",
      "\n",
      "Ember Model Performance at 1% FPR:\n",
      "Threshold: 1.0000\n",
      "False Positive Rate: 0.000%\n",
      "False Negative Rate: 3.465%\n",
      "Detection Rate: 96.53539798362391%\n",
      "Accuracy: 0.973250781169905\n",
      "Precision: 0.9866058358543964\n",
      "Recall: 0.965353979836239\n",
      "F1 Score: 0.9758642186337403\n",
      "\n",
      "Ember Model Performance at 0.1% FPR:\n",
      "Threshold: 1.0000\n",
      "False Positive Rate: 0.000%\n",
      "False Negative Rate: 3.465%\n",
      "Detection Rate: 96.53539798362391%\n",
      "Accuracy: 0.973250781169905\n",
      "Precision: 0.9866058358543964\n",
      "Recall: 0.965353979836239\n",
      "F1 Score: 0.9758642186337403\n"
     ]
    }
   ],
   "source": [
    "testdf = emberdf_cleaned[emberdf_cleaned[\"subset\"] == \"test\"]\n",
    "print(\"ROC AUC:\", roc_auc_score(testdf.label, testdf.y_pred))\n",
    "print()\n",
    "\n",
    "threshold, fpr = find_threshold(testdf.label, testdf.y_pred, 0.01)\n",
    "fnr = (testdf.y_pred[testdf.label == 1] < threshold).sum() / float((testdf.label == 1).sum())\n",
    "# 将预测值转换为标签\n",
    "y_pred_labels = (testdf.y_pred >= threshold).astype(int)\n",
    "print(\"Ember Model Performance at 1% FPR:\")\n",
    "print(\"Threshold: {:.4f}\".format(threshold))\n",
    "print(\"False Positive Rate: {:.3f}%\".format(fpr * 100))\n",
    "print(\"False Negative Rate: {:.3f}%\".format(fnr * 100))\n",
    "print(\"Detection Rate: {}%\".format(100 - fnr * 100))\n",
    "# 计算准确率\n",
    "accuracy = accuracy_score(testdf.label, y_pred_labels)\n",
    "print(f'Accuracy: {accuracy}')\n",
    "\n",
    "# 计算精确率\n",
    "precision = precision_score(testdf.label, y_pred_labels)\n",
    "print(f'Precision: {precision}')\n",
    "\n",
    "# 计算召回率\n",
    "recall = recall_score(testdf.label, y_pred_labels)\n",
    "print(f'Recall: {recall:}')\n",
    "\n",
    "# 计算F1分数\n",
    "f1 = f1_score(testdf.label, y_pred_labels)\n",
    "print(f'F1 Score: {f1}')\n",
    "print()\n",
    "\n",
    "threshold, fpr = find_threshold(testdf.label, testdf.y_pred, 0.001)\n",
    "fnr = (testdf.y_pred[testdf.label == 1] < threshold).sum() / float((testdf.label == 1).sum())\n",
    "# 将预测值转换为标签\n",
    "y_pred_labels = (testdf.y_pred >= threshold).astype(int)\n",
    "print(\"Ember Model Performance at 0.1% FPR:\")\n",
    "print(\"Threshold: {:.4f}\".format(threshold))\n",
    "print(\"False Positive Rate: {:.3f}%\".format(fpr * 100))\n",
    "print(\"False Negative Rate: {:.3f}%\".format(fnr * 100))\n",
    "print(\"Detection Rate: {}%\".format(100 - fnr * 100))\n",
    "# 计算准确率\n",
    "accuracy = accuracy_score(testdf.label, y_pred_labels)\n",
    "print(f'Accuracy: {accuracy}')\n",
    "\n",
    "# 计算精确率\n",
    "precision = precision_score(testdf.label, y_pred_labels)\n",
    "print(f'Precision: {precision}')\n",
    "\n",
    "# 计算召回率\n",
    "recall = recall_score(testdf.label, y_pred_labels)\n",
    "print(f'Recall: {recall:}')\n",
    "\n",
    "# 计算F1分数\n",
    "f1 = f1_score(testdf.label, y_pred_labels)\n",
    "print(f'F1 Score: {f1}')"
   ]
  },
  {
   "cell_type": "code",
   "execution_count": 31,
   "id": "871a740a",
   "metadata": {},
   "outputs": [
    {
     "data": {
      "image/png": "[encoded data removed]",
      "text/plain": [
       "<Figure size 576x576 with 1 Axes>"
      ]
     },
     "metadata": {
      "needs_background": "light"
     },
     "output_type": "display_data"
    }
   ],
   "source": [
    "plt.figure(figsize=(8, 8))\n",
    "fpr_plot, tpr_plot, _ = roc_curve(testdf.label, testdf.y_pred)\n",
    "plt.plot(fpr_plot, tpr_plot, lw=4, color='k')\n",
    "plt.gca().set_xscale(\"log\")\n",
    "plt.yticks(np.arange(22) / 20.0)\n",
    "plt.xlim([4e-5, 1.0])\n",
    "plt.ylim([0.3, 1.01])\n",
    "plt.gca().grid(True)\n",
    "plt.vlines(fpr, 0, 1 - fnr, color=\"r\", lw=2)\n",
    "plt.hlines(1 - fnr, 0, fpr, color=\"r\", lw=2)\n",
    "plt.xlabel(\"False positive rate\")\n",
    "plt.ylabel(\"True positive rate\")\n",
    "_ = plt.title(\"ROC Curve\")"
   ]
  },
  {
   "cell_type": "code",
   "execution_count": 32,
   "id": "e974643a",
   "metadata": {},
   "outputs": [
    {
     "data": {
      "text/plain": [
       "Text(0.9999999999999062, 10, 'Threshold = 1.000\\nFPR = 0.000')"
      ]
     },
     "execution_count": 32,
     "metadata": {},
     "output_type": "execute_result"
    },
    {
     "data": {
      "image/png": "[encoded data removed]",
      "text/plain": [
       "<Figure size 576x576 with 1 Axes>"
      ]
     },
     "metadata": {
      "needs_background": "light"
     },
     "output_type": "display_data"
    }
   ],
   "source": [
    "fig = plt.figure(figsize=(8, 8))\n",
    "testdf[testdf[\"label\"] == 0].y_pred.hist(range=[0, 1], bins=10, color=\"#3333ff\", alpha=0.8, label=\"benign\")\n",
    "testdf[testdf[\"label\"] == 1].y_pred.hist(range=[0, 1], bins=10, color=\"#ff3333\", alpha=0.8, label=\"malicious\")\n",
    "plt.gca().set_yscale(\"log\", nonpositive=\"clip\")\n",
    "plt.gca().grid(False)\n",
    "plt.xlabel(\"Score\")\n",
    "plt.ylabel(\"Count\")\n",
    "_ = plt.title(\"Ember Test Set Model Score\")\n",
    "\n",
    "plt.text(threshold, 10, f'Threshold = {threshold:.3f}\\nFPR = {fpr:.3f}', color='black', fontsize=12, bbox=dict(facecolor='white', alpha=0.5))"
   ]
  },
  {
   "cell_type": "code",
   "execution_count": null,
   "id": "056e082c",
   "metadata": {},
   "outputs": [],
   "source": []
  }
 ],
 "metadata": {
  "kernelspec": {
   "display_name": "Python 3",
   "language": "python",
   "name": "python3"
  },
  "language_info": {
   "codemirror_mode": {
    "name": "ipython",
    "version": 3
   },
   "file_extension": ".py",
   "mimetype": "text/x-python",
   "name": "python",
   "nbconvert_exporter": "python",
   "pygments_lexer": "ipython3",
   "version": "3.6.15"
  }
 },
 "nbformat": 4,
 "nbformat_minor": 5
}
